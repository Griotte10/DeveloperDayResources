{
 "cells": [
  {
   "cell_type": "markdown",
   "metadata": {},
   "source": [
    "# Eikon Data API - How to use a StreamingPrice to cache real-time market data\n",
    "\n",
    "The following example demonstrates how to retrieve level 1 streaming data (such as trades and quotes) from Eikon. The example will show how to define a StreamingPrice object, which automatically manages a streaming cache available for access at any time. Your application can then reach into this cache and pull out real-time snapshots as Pandas DataFrames by just calling a simple access method.\n",
    "\n",
    "Using a StreamingPrice that way prevents your application from sending too many requests to Eikon. This is particularly useful if your application needs to retrieve real-time data snaphosts at regular and short intervals."
   ]
  },
  {
   "cell_type": "markdown",
   "metadata": {},
   "source": [
    "## Imports\n",
    "\n",
    "Imports the 'eikon' library and the 'display' function this example uses to display data"
   ]
  },
  {
   "cell_type": "code",
   "execution_count": null,
   "metadata": {},
   "outputs": [],
   "source": [
    "import eikon as ek\n",
    "from IPython.display import display"
   ]
  },
  {
   "cell_type": "markdown",
   "metadata": {},
   "source": [
    "## Set App Key\n",
    "Set the AppKey of this application and connect to Eikon."
   ]
  },
  {
   "cell_type": "code",
   "execution_count": null,
   "metadata": {},
   "outputs": [],
   "source": [
    "ek.__version__"
   ]
  },
  {
   "cell_type": "code",
   "execution_count": null,
   "metadata": {},
   "outputs": [],
   "source": [
    "ek.set_app_key('YOUR APP KEY HERE')"
   ]
  },
  {
   "cell_type": "markdown",
   "metadata": {},
   "source": [
    "## Create and open a StreamingPrice\n",
    "\n",
    "The StreamingPrice is created for a list of instruments and fields. The fields parameter is optionnal. If you omit it, the StreamingPrice will retrieve all fields available for the requested instruments"
   ]
  },
  {
   "cell_type": "code",
   "execution_count": null,
   "metadata": {},
   "outputs": [],
   "source": [
    "streaming_price = ek.StreamingPrice(\n",
    "    instruments = ['VOD.L','BARC.L', 'DGE.L', 'EUR='], \n",
    "    fields   = ['CF_BID','CF_ASK','OPEN_PRC', 'CF_HIGH','CF_LOW', 'CF_CLOSE']\n",
    ")"
   ]
  },
  {
   "cell_type": "markdown",
   "metadata": {},
   "source": [
    "The open method tells the StreamingPrice to subscribe to the streams of the requested instruments."
   ]
  },
  {
   "cell_type": "code",
   "execution_count": null,
   "metadata": {},
   "outputs": [],
   "source": [
    "streaming_price.open()"
   ]
  },
  {
   "cell_type": "markdown",
   "metadata": {},
   "source": [
    "As soon as the open method returns, the StreamingPrice is ready to be used. Its internal cache is constantly kept updated with the latest streaming information received from Eikon. All this happens behind the scene, waiting for your application to pull out data from the cache.  "
   ]
  },
  {
   "cell_type": "markdown",
   "metadata": {},
   "source": [
    "## Use the get_snapshot method to pull out data\n",
    "Once the StreamingPrice is opened, you can use the get_snapshot method to pull out data from its internal cache. get_snapshot returns a Pandas DataFrame that uses the same format as the eikon.get_data() function.\n",
    "\n",
    "get_snapshot can be called any number of times. As these calls return the latest values received from Eikon, several calls to get_snapshot for the same StreamingPrice may return DataFrames containing different values. Values of the returned DataFrames do not change in real-time, get_snapshot must be called every time your application needs fresh real-time values. "
   ]
  },
  {
   "cell_type": "code",
   "execution_count": null,
   "metadata": {},
   "outputs": [],
   "source": [
    "df = streaming_price.get_snapshot()\n",
    "display(df)"
   ]
  },
  {
   "cell_type": "markdown",
   "metadata": {},
   "source": [
    "### Get the latest values for a subset of instruments and fields"
   ]
  },
  {
   "cell_type": "code",
   "execution_count": null,
   "metadata": {},
   "outputs": [],
   "source": [
    "df = streaming_price.get_snapshot(\n",
    "    instruments = ['VOD.L','BARC.L','EUR='], \n",
    "    fields   = ['CF_BID','CF_ASK']\n",
    ")\n",
    "display(df)"
   ]
  },
  {
   "cell_type": "markdown",
   "metadata": {},
   "source": [
    "### Close the Streaming Price"
   ]
  },
  {
   "cell_type": "code",
   "execution_count": null,
   "metadata": {},
   "outputs": [],
   "source": [
    "streaming_price.close()"
   ]
  },
  {
   "cell_type": "markdown",
   "metadata": {},
   "source": [
    "Once closed is called the StreamingPrice stops updating its internal cache. The get_snapshot function can still be called but it will always return the same values. "
   ]
  },
  {
   "cell_type": "code",
   "execution_count": null,
   "metadata": {},
   "outputs": [],
   "source": []
  }
 ],
 "metadata": {
  "kernelspec": {
   "display_name": "Python 3",
   "language": "python",
   "name": "python3"
  },
  "language_info": {
   "codemirror_mode": {
    "name": "ipython",
    "version": 3
   },
   "file_extension": ".py",
   "mimetype": "text/x-python",
   "name": "python",
   "nbconvert_exporter": "python",
   "pygments_lexer": "ipython3",
   "version": "3.7.1"
  }
 },
 "nbformat": 4,
 "nbformat_minor": 2
}
