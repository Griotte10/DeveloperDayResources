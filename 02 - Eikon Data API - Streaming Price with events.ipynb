{
 "cells": [
  {
   "cell_type": "markdown",
   "metadata": {},
   "source": [
    "# Eikon Data API - How to use StreamingPrice with events\n",
    "\n",
    "The following example demonstrates how to retrieve level 1 streaming data (such as trades and quotes) from Eikon. The example will show how to define a StreamingPrice object with registered callbacks so that your application receives events from Eikon.\n",
    "\n",
    "Using a StreamingPrice that way allows your application to be notified in realtime when data change on the market. With this event-driven mode, your application can still benefit from the StreamingPrice data cache and use the get_snapshot function to pull out real-time snapshots as Pandas DataFrames whenever it needs."
   ]
  },
  {
   "cell_type": "markdown",
   "metadata": {},
   "source": [
    "## Imports\n",
    "\n",
    "Imports the 'eikon' library and other usefull libraries needed by this notebook"
   ]
  },
  {
   "cell_type": "code",
   "execution_count": 1,
   "metadata": {},
   "outputs": [],
   "source": [
    "import eikon as ek\n",
    "from IPython.display import display, clear_output, HTML\n",
    "import pandas as pd\n",
    "import datetime"
   ]
  },
  {
   "cell_type": "markdown",
   "metadata": {},
   "source": [
    "## Set App Key\n",
    "Set the AppKey of this application and connect to Eikon."
   ]
  },
  {
   "cell_type": "code",
   "execution_count": 2,
   "metadata": {},
   "outputs": [],
   "source": [
    "ek.set_app_key('YOUR API KEY HERE')"
   ]
  },
  {
   "cell_type": "markdown",
   "metadata": {},
   "source": [
    "## Define callbacks to capture incoming events"
   ]
  },
  {
   "cell_type": "code",
   "execution_count": 3,
   "metadata": {},
   "outputs": [],
   "source": [
    "def display_refreshed_fields(streaming_price, instrument_name, fields):\n",
    "    current_time = datetime.datetime.now().time()\n",
    "    print(current_time, \"- Refresh received for\", instrument_name, \":\", fields)    "
   ]
  },
  {
   "cell_type": "code",
   "execution_count": 4,
   "metadata": {},
   "outputs": [],
   "source": [
    "def display_updated_fields(streaming_price, instrument_name, fields):\n",
    "    current_time = datetime.datetime.now().time()\n",
    "    print(current_time, \"- Update received for\", instrument_name, \":\", fields)    "
   ]
  },
  {
   "cell_type": "code",
   "execution_count": 5,
   "metadata": {},
   "outputs": [],
   "source": [
    "def display_complete_snapshot(streaming_price):\n",
    "    current_time = datetime.datetime.now().time()\n",
    "    print(current_time, \"- StreamingPrice is complete. Full snapshot:\")\n",
    "    display(streaming_price.get_snapshot())"
   ]
  },
  {
   "cell_type": "code",
   "execution_count": 6,
   "metadata": {},
   "outputs": [],
   "source": [
    "def display_status(streaming_price, instrument_name, status):\n",
    "    current_time = datetime.datetime.now().time()\n",
    "    print(current_time, \"- Status received for\", instrument_name, \":\", status)    "
   ]
  },
  {
   "cell_type": "markdown",
   "metadata": {},
   "source": [
    "## Create StreamingPrices and register event callbacks"
   ]
  },
  {
   "cell_type": "code",
   "execution_count": 7,
   "metadata": {},
   "outputs": [],
   "source": [
    "streaming_price = ek.StreamingPrice(\n",
    "    instruments = ['CAD=','GBP=', 'JPY=', 'EUR='], \n",
    "    fields   = ['SALTIM', 'CF_BID','CF_ASK','OPEN_PRC', 'CF_HIGH','CF_LOW', 'CF_CLOSE'],\n",
    "    on_refresh = lambda streaming_price, instrument_name, fields : display_refreshed_fields(streaming_price, instrument_name, fields),\n",
    "    on_update = lambda streaming_price, instrument_name, fields : display_updated_fields(streaming_price, instrument_name, fields),\n",
    "    on_status = lambda streaming_price, instrument_name, status : display_status(streaming_price, instrument_name, status),\n",
    "    on_complete = lambda streaming_price : display_complete_snapshot(streaming_price)\n",
    ")"
   ]
  },
  {
   "cell_type": "markdown",
   "metadata": {},
   "source": [
    "## Open StreamingPrices and wait for events"
   ]
  },
  {
   "cell_type": "code",
   "execution_count": 8,
   "metadata": {},
   "outputs": [
    {
     "name": "stdout",
     "output_type": "stream",
     "text": [
      "12:45:19.985617 - Refresh received for JPY= : {'CF_BID': 108.78, 'CF_ASK': 108.81, 'OPEN_PRC': 108.75, 'CF_HIGH': 108.93, 'CF_LOW': 108.65, 'CF_CLOSE': 108.75}\n",
      "12:45:19.986202 - Update received for JPY= : {'CF_BID': 108.78, 'CF_ASK': 108.81}\n",
      "12:45:19.986274 - Refresh received for CAD= : {'CF_BID': 1.317, 'CF_ASK': 1.3175, 'OPEN_PRC': 1.32, 'CF_HIGH': 1.3211, 'CF_LOW': 1.3158, 'CF_CLOSE': 1.3201}\n",
      "12:45:19.986335 - Refresh received for EUR= : {'CF_BID': 1.1109, 'CF_ASK': 1.1113, 'OPEN_PRC': 1.1071, 'CF_HIGH': 1.1139, 'CF_LOW': 1.1066, 'CF_CLOSE': 1.107}\n",
      "12:45:19.986394 - Refresh received for GBP= : {'CF_BID': 1.2888, 'CF_ASK': 1.2892, 'OPEN_PRC': 1.283, 'CF_HIGH': 1.2988, 'CF_LOW': 1.2752, 'CF_CLOSE': 1.283}\n",
      "12:45:19.987094 - StreamingPrice is complete. Full snapshot:\n"
     ]
    },
    {
     "data": {
      "text/html": [
       "<div>\n",
       "<style scoped>\n",
       "    .dataframe tbody tr th:only-of-type {\n",
       "        vertical-align: middle;\n",
       "    }\n",
       "\n",
       "    .dataframe tbody tr th {\n",
       "        vertical-align: top;\n",
       "    }\n",
       "\n",
       "    .dataframe thead th {\n",
       "        text-align: right;\n",
       "    }\n",
       "</style>\n",
       "<table border=\"1\" class=\"dataframe\">\n",
       "  <thead>\n",
       "    <tr style=\"text-align: right;\">\n",
       "      <th></th>\n",
       "      <th>Instrument</th>\n",
       "      <th>CF_BID</th>\n",
       "      <th>CF_ASK</th>\n",
       "      <th>OPEN_PRC</th>\n",
       "      <th>CF_HIGH</th>\n",
       "      <th>CF_LOW</th>\n",
       "      <th>CF_CLOSE</th>\n",
       "    </tr>\n",
       "  </thead>\n",
       "  <tbody>\n",
       "    <tr>\n",
       "      <th>0</th>\n",
       "      <td>CAD=</td>\n",
       "      <td>1.3170</td>\n",
       "      <td>1.3175</td>\n",
       "      <td>1.3200</td>\n",
       "      <td>1.3211</td>\n",
       "      <td>1.3158</td>\n",
       "      <td>1.3201</td>\n",
       "    </tr>\n",
       "    <tr>\n",
       "      <th>1</th>\n",
       "      <td>GBP=</td>\n",
       "      <td>1.2888</td>\n",
       "      <td>1.2892</td>\n",
       "      <td>1.2830</td>\n",
       "      <td>1.2988</td>\n",
       "      <td>1.2752</td>\n",
       "      <td>1.2830</td>\n",
       "    </tr>\n",
       "    <tr>\n",
       "      <th>2</th>\n",
       "      <td>JPY=</td>\n",
       "      <td>108.7800</td>\n",
       "      <td>108.8100</td>\n",
       "      <td>108.7500</td>\n",
       "      <td>108.9300</td>\n",
       "      <td>108.6500</td>\n",
       "      <td>108.7500</td>\n",
       "    </tr>\n",
       "    <tr>\n",
       "      <th>3</th>\n",
       "      <td>EUR=</td>\n",
       "      <td>1.1109</td>\n",
       "      <td>1.1113</td>\n",
       "      <td>1.1071</td>\n",
       "      <td>1.1139</td>\n",
       "      <td>1.1066</td>\n",
       "      <td>1.1070</td>\n",
       "    </tr>\n",
       "  </tbody>\n",
       "</table>\n",
       "</div>"
      ],
      "text/plain": [
       "  Instrument    CF_BID    CF_ASK  OPEN_PRC   CF_HIGH    CF_LOW  CF_CLOSE\n",
       "0       CAD=    1.3170    1.3175    1.3200    1.3211    1.3158    1.3201\n",
       "1       GBP=    1.2888    1.2892    1.2830    1.2988    1.2752    1.2830\n",
       "2       JPY=  108.7800  108.8100  108.7500  108.9300  108.6500  108.7500\n",
       "3       EUR=    1.1109    1.1113    1.1071    1.1139    1.1066    1.1070"
      ]
     },
     "metadata": {},
     "output_type": "display_data"
    },
    {
     "name": "stdout",
     "output_type": "stream",
     "text": [
      "12:45:21.223059 - Update received for GBP= : {'CF_BID': 1.2887, 'CF_ASK': 1.2891}\n",
      "12:45:21.322633 - Update received for EUR= : {'CF_BID': 1.1108, 'CF_ASK': 1.1112}\n",
      "12:45:22.705014 - Update received for JPY= : {'CF_BID': 108.79, 'CF_ASK': 108.8}\n",
      "12:45:24.212644 - Update received for GBP= : {'CF_BID': 1.2888, 'CF_ASK': 1.2892}\n",
      "12:45:24.312728 - Update received for EUR= : {'CF_BID': 1.1108, 'CF_ASK': 1.1112}\n",
      "12:45:24.866017 - Update received for CAD= : {'CF_BID': 1.3172, 'CF_ASK': 1.3173}\n",
      "12:45:25.706531 - Update received for JPY= : {'CF_BID': 108.78, 'CF_ASK': 108.81}\n",
      "12:45:27.164728 - Update received for GBP= : {'CF_BID': 1.2888, 'CF_ASK': 1.2892}\n",
      "12:45:27.264731 - Update received for EUR= : {'CF_BID': 1.1109, 'CF_ASK': 1.1113}\n",
      "12:45:28.662861 - Update received for JPY= : {'CF_BID': 108.78, 'CF_ASK': 108.81}\n",
      "12:45:28.766293 - Update received for CAD= : {'CF_BID': 1.3172, 'CF_ASK': 1.3174}\n",
      "12:45:30.187413 - Update received for GBP= : {'CF_BID': 1.2889, 'CF_ASK': 1.2893}\n",
      "12:45:30.279974 - Update received for EUR= : {'CF_BID': 1.1109, 'CF_ASK': 1.1113}\n",
      "12:45:31.601634 - Update received for JPY= : {'CF_BID': 108.78, 'CF_ASK': 108.8}\n",
      "12:45:31.706454 - Update received for CAD= : {'CF_BID': 1.3171, 'CF_ASK': 1.3175}\n",
      "12:45:33.163371 - Update received for EUR= : {'CF_BID': 1.1108, 'CF_ASK': 1.1112}\n",
      "12:45:33.262110 - Update received for GBP= : {'CF_BID': 1.2888, 'CF_ASK': 1.2891}\n",
      "12:45:34.631039 - Update received for JPY= : {'CF_BID': 108.78, 'CF_ASK': 108.81}\n",
      "12:45:36.113129 - Update received for EUR= : {'CF_BID': 1.1108, 'CF_ASK': 1.1112}\n",
      "12:45:36.214280 - Update received for GBP= : {'CF_BID': 1.2888, 'CF_ASK': 1.2892}\n",
      "12:45:37.574331 - Update received for JPY= : {'CF_BID': 108.78, 'CF_ASK': 108.8}\n",
      "12:45:38.951778 - Update received for CAD= : {'CF_BID': 1.3172, 'CF_ASK': 1.3173}\n",
      "12:45:39.060514 - Update received for EUR= : {'CF_BID': 1.1109, 'CF_ASK': 1.1112}\n",
      "12:45:39.162229 - Update received for GBP= : {'CF_BID': 1.2887, 'CF_ASK': 1.2891}\n",
      "12:45:40.542058 - Update received for JPY= : {'CF_BID': 108.79, 'CF_ASK': 108.8}\n",
      "12:45:41.879975 - Update received for CAD= : {'CF_BID': 1.3171, 'CF_ASK': 1.3175}\n",
      "12:45:42.076315 - Update received for EUR= : {'CF_BID': 1.1109, 'CF_ASK': 1.1112}\n",
      "12:45:42.161719 - Update received for GBP= : {'CF_BID': 1.2888, 'CF_ASK': 1.2892}\n",
      "12:45:43.514294 - Update received for JPY= : {'CF_BID': 108.79, 'CF_ASK': 108.8}\n",
      "12:45:45.072743 - Update received for GBP= : {'CF_BID': 1.2888, 'CF_ASK': 1.2892}\n",
      "12:45:45.074136 - Update received for EUR= : {'CF_BID': 1.1108, 'CF_ASK': 1.1112}\n",
      "12:45:46.460203 - Update received for JPY= : {'CF_BID': 108.79, 'CF_ASK': 108.8}\n",
      "12:45:48.002686 - Update received for CAD= : {'CF_BID': 1.3171, 'CF_ASK': 1.3175}\n",
      "12:45:48.102800 - Update received for GBP= : {'CF_BID': 1.2886, 'CF_ASK': 1.289}\n",
      "12:45:48.104674 - Update received for EUR= : {'CF_BID': 1.1108, 'CF_ASK': 1.1112}\n",
      "12:45:49.411730 - Update received for JPY= : {'CF_BID': 108.78, 'CF_ASK': 108.8}\n",
      "12:45:50.983577 - Update received for GBP= : {'CF_BID': 1.2887, 'CF_ASK': 1.289}\n",
      "12:45:51.083232 - Update received for EUR= : {'CF_BID': 1.1108, 'CF_ASK': 1.1112}\n",
      "12:45:52.424895 - Update received for JPY= : {'CF_BID': 108.78, 'CF_ASK': 108.8}\n",
      "12:45:53.918095 - Update received for CAD= : {'CF_BID': 1.3171, 'CF_ASK': 1.3175}\n",
      "12:45:54.017492 - Update received for GBP= : {'CF_BID': 1.2886, 'CF_ASK': 1.289}\n",
      "12:45:54.117660 - Update received for EUR= : {'CF_BID': 1.1108, 'CF_ASK': 1.1112}\n"
     ]
    }
   ],
   "source": [
    "streaming_price.open()"
   ]
  },
  {
   "cell_type": "markdown",
   "metadata": {},
   "source": [
    "## Close StreamingPrices when done"
   ]
  },
  {
   "cell_type": "code",
   "execution_count": 9,
   "metadata": {},
   "outputs": [
    {
     "name": "stdout",
     "output_type": "stream",
     "text": [
      "12:45:55.367820 - Update received for JPY= : {'CF_BID': 108.79, 'CF_ASK': 108.8}\n"
     ]
    }
   ],
   "source": [
    "streaming_price.close()"
   ]
  },
  {
   "cell_type": "code",
   "execution_count": null,
   "metadata": {},
   "outputs": [],
   "source": []
  }
 ],
 "metadata": {
  "kernelspec": {
   "display_name": "Python 3",
   "language": "python",
   "name": "python3"
  },
  "language_info": {
   "codemirror_mode": {
    "name": "ipython",
    "version": 3
   },
   "file_extension": ".py",
   "mimetype": "text/x-python",
   "name": "python",
   "nbconvert_exporter": "python",
   "pygments_lexer": "ipython3",
   "version": "3.7.1"
  }
 },
 "nbformat": 4,
 "nbformat_minor": 2
}
