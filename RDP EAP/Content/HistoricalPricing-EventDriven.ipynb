{
 "cells": [
  {
   "cell_type": "markdown",
   "metadata": {},
   "source": [
    "# HistoricalPricing content objects - Event Driven"
   ]
  },
  {
   "cell_type": "markdown",
   "metadata": {},
   "source": [
    "This script shows how to request Historical Pricing data in Event Driven mode  \n"
   ]
  },
  {
   "cell_type": "markdown",
   "metadata": {},
   "source": [
    "## Import the Refinitifv Data Platform Library"
   ]
  },
  {
   "cell_type": "code",
   "execution_count": null,
   "metadata": {},
   "outputs": [],
   "source": [
    "import refinitiv.dataplatform as rdp\n",
    "import datetime\n",
    "import asyncio\n",
    "import pandas as pd"
   ]
  },
  {
   "cell_type": "markdown",
   "metadata": {},
   "source": [
    "## Get credentials"
   ]
  },
  {
   "cell_type": "code",
   "execution_count": null,
   "metadata": {},
   "outputs": [],
   "source": [
    "%run -i ../Sessions.ipynb"
   ]
  },
  {
   "cell_type": "markdown",
   "metadata": {},
   "source": [
    "## Create a session and open it "
   ]
  },
  {
   "cell_type": "code",
   "execution_count": null,
   "metadata": {},
   "outputs": [],
   "source": [
    "mySession = get_session(\"platform\")\n",
    "mySession.open()"
   ]
  },
  {
   "cell_type": "markdown",
   "metadata": {},
   "source": [
    "## Create the Historical Pricing object with a response callback"
   ]
  },
  {
   "cell_type": "code",
   "execution_count": null,
   "metadata": {},
   "outputs": [],
   "source": [
    "def display_response(response):\n",
    "    data_type = response.closure\n",
    "    current_time = datetime.datetime.now().time()\n",
    "    display('{} received at {}'.format(data_type, current_time))\n",
    "    display(response.data.dataframe)"
   ]
  },
  {
   "cell_type": "code",
   "execution_count": null,
   "metadata": {},
   "outputs": [],
   "source": [
    "historical_pricing = rdp.HistoricalPricing(\n",
    "    session = mySession,\n",
    "    on_response = lambda hp, response : display_response(response)\n",
    ")"
   ]
  },
  {
   "cell_type": "markdown",
   "metadata": {},
   "source": [
    "## Historical Price Events + Intraday Summaries + Interday Summaries"
   ]
  },
  {
   "cell_type": "code",
   "execution_count": null,
   "metadata": {},
   "outputs": [],
   "source": [
    "my_adjustments = [\n",
    "    rdp.Adjustments.EXCHANGE_CORRECTION, \n",
    "    rdp.Adjustments.MANUAL_CORRECTION,\n",
    "    rdp.Adjustments.CCH,\n",
    "    rdp.Adjustments.CRE,\n",
    "    rdp.Adjustments.RPO,\n",
    "    rdp.Adjustments.RTS,\n",
    "]\n",
    "\n",
    "historical_events = asyncio.get_event_loop().create_task(\n",
    "    historical_pricing.get_events_async(\n",
    "        universe = 'VOD.L', \n",
    "        count = 10,\n",
    "        eventTypes = [rdp.EventTypes.TRADE], \n",
    "        closure = 'Historical Price Events')\n",
    ")\n",
    "\n",
    "intraday_summaries = asyncio.get_event_loop().create_task(\n",
    "    historical_pricing.get_summaries_async(\n",
    "        universe = 'VOD.L', \n",
    "        count = 6,\n",
    "        interval = rdp.Intervals.TEN_MINUTES, \n",
    "        adjustments = my_adjustments, \n",
    "        closure = 'Historical Intraday Summaries')\n",
    ")\n",
    "\n",
    "interday_summaries = asyncio.get_event_loop().create_task(\n",
    "    historical_pricing.get_summaries_async(\n",
    "        universe = 'VOD.L', \n",
    "        count = 5,\n",
    "        interval = rdp.Intervals.DAILY, \n",
    "        adjustments = my_adjustments, \n",
    "        closure = 'Historical Interday Summaries')\n",
    ")"
   ]
  },
  {
   "cell_type": "markdown",
   "metadata": {},
   "source": [
    "## Close the session"
   ]
  },
  {
   "cell_type": "code",
   "execution_count": null,
   "metadata": {},
   "outputs": [],
   "source": [
    "mySession.close()"
   ]
  },
  {
   "cell_type": "code",
   "execution_count": null,
   "metadata": {},
   "outputs": [],
   "source": []
  }
 ],
 "metadata": {
  "kernelspec": {
   "display_name": "Python 3",
   "language": "python",
   "name": "python3"
  },
  "language_info": {
   "codemirror_mode": {
    "name": "ipython",
    "version": 3
   },
   "file_extension": ".py",
   "mimetype": "text/x-python",
   "name": "python",
   "nbconvert_exporter": "python",
   "pygments_lexer": "ipython3",
   "version": "3.7.3"
  }
 },
 "nbformat": 4,
 "nbformat_minor": 4
}
