{
 "cells": [
  {
   "cell_type": "markdown",
   "metadata": {},
   "source": [
    "# Sessions\n",
    "The Refinitiv Data Platform Python Library provides the ability to access content from the desktop, directly to the cloud or through deployed platform services. Defined as a session, the user can choose how they want access the platform to execute all the examples within this package.  The intention is to provide one single place for the user to define the session and the credentials for that session.\n",
    "\n",
    "**Note**: The *Deployed Platform* session only supports streaming services."
   ]
  },
  {
   "cell_type": "code",
   "execution_count": null,
   "metadata": {},
   "outputs": [],
   "source": [
    "# Configuration file and Platform Python Library packages\n",
    "import configparser as cp\n",
    "import refinitiv.dataplatform as rdp"
   ]
  },
  {
   "cell_type": "markdown",
   "metadata": {},
   "source": [
    "### Configuration\n",
    "As a one time activity, configure your environment based on your session of choice and credentials for that session.\n",
    "\n",
    "Load up the *session.cfg* file and define your environment.  Once completed, you can now move to the examples."
   ]
  },
  {
   "cell_type": "code",
   "execution_count": null,
   "metadata": {},
   "outputs": [],
   "source": [
    "def read_config(file):\n",
    "    config = cp.ConfigParser()\n",
    "    config.read(file)\n",
    "    return config"
   ]
  },
  {
   "cell_type": "code",
   "execution_count": null,
   "metadata": {},
   "outputs": [],
   "source": [
    "def get_session(target_session):\n",
    "    config = read_config('../session.cfg')\n",
    "    print(\"Session choice: \",target_session)\n",
    "    session_dict = {\n",
    "        'desktop': get_desktop_session(config),\n",
    "        'platform': get_platform_session('platform',config),\n",
    "        'platformun': get_platform_session('platformun',config),\n",
    "        'deployed': get_deployed_session(config)\n",
    "    }\n",
    "    session = session_dict.get(target_session)\n",
    "    if session is None:\n",
    "        raise Exception('Session not specified in configuration file')\n",
    "    print(session)    \n",
    "    return session"
   ]
  },
  {
   "cell_type": "code",
   "execution_count": null,
   "metadata": {},
   "outputs": [],
   "source": [
    "def get_desktop_session(config):\n",
    "    app_key = config['desktop']['app_key']\n",
    "    return rdp.DesktopSession(\n",
    "                        app_key,\n",
    "                        on_state = lambda session, state, message : print(\"Desktop session state: \", state, message),\n",
    "                        on_event = lambda session, event, message : print(\"Desktop session event: \", event.message))"
   ]
  },
  {
   "cell_type": "code",
   "execution_count": null,
   "metadata": {},
   "outputs": [],
   "source": [
    "def get_platform_session(target_session,config):\n",
    "    user = config[target_session]['user']\n",
    "    password = config[target_session]['password']\n",
    "    app_key = config[target_session]['app_key']\n",
    "    return rdp.PlatformSession(\n",
    "                        app_key,\n",
    "                        rdp.GrantPassword(\n",
    "                            username = user,\n",
    "                            password = password),\n",
    "                        on_state = lambda session, state, message : print(\"Platform session state: \", state, message),\n",
    "                        on_event = lambda session, event, message : print(\"Platform session event: \", event, message))"
   ]
  },
  {
   "cell_type": "code",
   "execution_count": null,
   "metadata": {},
   "outputs": [],
   "source": [
    "def get_deployed_session(config):\n",
    "    app_key = config['deployed']['app_key']\n",
    "    host = config['deployed']['host']\n",
    "    user = config['deployed']['user']\n",
    "    return rdp.DeployedPlatformSession(\n",
    "                        app_key = app_key,\n",
    "                        host = host,\n",
    "                        dacs_username = user,\n",
    "                        on_state = lambda session, state, message : print(\"Deployed session state: \", state, message),\n",
    "                        on_event = lambda session, event, message : print(\"Deployed session event: \", event, message))"
   ]
  }
 ],
 "metadata": {
  "kernelspec": {
   "display_name": "Python 3",
   "language": "python",
   "name": "python3"
  },
  "language_info": {
   "codemirror_mode": {
    "name": "ipython",
    "version": 3
   },
   "file_extension": ".py",
   "mimetype": "text/x-python",
   "name": "python",
   "nbconvert_exporter": "python",
   "pygments_lexer": "ipython3",
   "version": "3.7.3"
  }
 },
 "nbformat": 4,
 "nbformat_minor": 2
}
